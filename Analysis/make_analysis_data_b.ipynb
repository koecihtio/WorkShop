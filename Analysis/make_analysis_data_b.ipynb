{
 "cells": [
  {
   "cell_type": "markdown",
   "metadata": {},
   "source": [
    "# 分析用データの作成"
   ]
  },
  {
   "cell_type": "code",
   "execution_count": 1,
   "metadata": {},
   "outputs": [],
   "source": [
    "import pandas as pd\n",
    "import numpy as np"
   ]
  },
  {
   "cell_type": "markdown",
   "metadata": {},
   "source": [
    "## BCPデータの整形"
   ]
  },
  {
   "cell_type": "code",
   "execution_count": 2,
   "metadata": {},
   "outputs": [],
   "source": [
    "# データ読込\n",
    "path_bcp = '../../data/eol/BCP_data.csv'\n",
    "bcp = pd.read_csv(path_bcp, header=0, encoding='cp932')\n",
    "\n",
    "# 列名変更\n",
    "bcp.columns = [\n",
    "    \"stock_code\", \"firm_name\", \"ind_name\", \"kessan_ymd\", \"sumbmit_ymd\",\n",
    "    \"year\", \"sogyo_year\", \"listed_year\", \"non_listed_year\", \"document\",\n",
    "    \"hit\", \"BCP_obs\"\n",
    "    ]\n",
    "\n",
    "# yearのNAを除去\n",
    "bcp.dropna(subset=['year'], inplace=True)\n",
    "\n",
    "# 最小年のみ残す\n",
    "bcp_grouped = bcp.groupby('stock_code')\n",
    "bcp_grouped = bcp_grouped['year'].min()\n",
    "bcp_grouped.name = 'BCP_first_year'\n",
    "bcp = pd.merge(left=bcp, right=bcp_grouped, on='stock_code', how='left')\n",
    "bcp = bcp.query('year == BCP_first_year')\n",
    "bcp.drop_duplicates(subset=['stock_code'], inplace=True)\n",
    "\n",
    "# 列を選択\n",
    "bcp = bcp[['stock_code', 'year', 'BCP_first_year']]"
   ]
  },
  {
   "cell_type": "markdown",
   "metadata": {},
   "source": [
    "## 財務データとの結合"
   ]
  },
  {
   "cell_type": "code",
   "execution_count": 6,
   "metadata": {},
   "outputs": [],
   "source": [
    "path = '../../data/SPEEDA/CompanyList/CompanyListProcessed.csv'\n",
    "yj = pd.read_csv(path, header=0, encoding='cp932')\n",
    "yj['stock_code'] = yj['stock_code'].apply(str)\n",
    "df = pd.merge(left=yj, right=bcp, on=['stock_code', 'year'], how='left')\n",
    "\n",
    "# 初めてBCPを策定した年以降にBCPを策定していることを表す１を付与する\n",
    "df_grouped = df.groupby('stock_code')['BCP_first_year'].max()\n",
    "df_grouped.name = 'fy'\n",
    "df = pd.merge(left=df, right=df_grouped, on='stock_code', how='left')\n",
    "bcp_list = [1 if y >= y_bcp else 0 for y, y_bcp in zip(df['year'], df['fy'])]\n",
    "df['BCP'] = bcp_list\n",
    "df.drop(columns=['BCP_first_year', 'fy'], inplace=True)\n",
    "df.dropna(how='any', inplace=True)\n",
    "\n",
    "path = '../../data/Analysis/analysis_data_b.csv'\n",
    "df.to_csv(path, encoding='cp932', header=True, index=False)\n"
   ]
  },
  {
   "cell_type": "markdown",
   "metadata": {},
   "source": [
    "## 決算期を３月に限定したver"
   ]
  },
  {
   "cell_type": "code",
   "execution_count": 7,
   "metadata": {},
   "outputs": [],
   "source": [
    "path = '../../data/Analysis/analysis_data_b.csv'\n",
    "df = pd.read_csv(path, encoding='cp932', header=0)\n",
    "df = df.query('month == 3')\n",
    "df.dropna(how='any', inplace=True) # 影響なし\n",
    "path = '../../data/Analysis/analysis_data_three_b.csv'\n",
    "df.to_csv(path, encoding='cp932', header=True, index=False)"
   ]
  },
  {
   "cell_type": "markdown",
   "metadata": {},
   "source": [
    "## サンプル数チェック"
   ]
  },
  {
   "cell_type": "code",
   "execution_count": 9,
   "metadata": {},
   "outputs": [
    {
     "name": "stdout",
     "output_type": "stream",
     "text": [
      "##### 全期間 #####\n",
      "企業数：2658\n",
      "BCP策定企業数：907\n",
      "##### 3月 #####\n",
      "企業数：1902\n",
      "BCP策定企業数：718\n"
     ]
    }
   ],
   "source": [
    "path = '../../data/Analysis/analysis_data_b.csv'\n",
    "df = pd.read_csv(path, encoding='cp932', header=0)\n",
    "path = '../../data/Analysis/analysis_data_three_b.csv'\n",
    "df_three = pd.read_csv(path, encoding='cp932', header=0)\n",
    "\n",
    "def sample_check(df):\n",
    "    firmnum = df.drop_duplicates(subset=['stock_code'])['stock_code'].count()\n",
    "    bcp_firmnum = df.query('BCP == 1').drop_duplicates(subset=['stock_code'])['stock_code'].count()\n",
    "    print(f'企業数：{firmnum}')\n",
    "    print(f'BCP策定企業数：{bcp_firmnum}')\n",
    "\n",
    "df_list = [df, df_three]\n",
    "annot = ['全期間', '3月']\n",
    "for d, a in zip(df_list, annot):\n",
    "    print(f'##### {a} #####')\n",
    "    sample_check(d)"
   ]
  },
  {
   "cell_type": "markdown",
   "metadata": {},
   "source": [
    "## データの作成メモ\n",
    "- outlier: 分布が極端に偏る変数について、上下0.5%ずつの異常値を除去\n",
    "- year: 年数が飛んでいたり、５年以上の年数が確保できない企業を除去\n",
    "- standarlized：多くの変数で分布が極端に偏っているため、Yeo-Johnson変換を実施。Box-Cox変換と比べて、負の値を処理できる点から採用した。"
   ]
  }
 ],
 "metadata": {
  "interpreter": {
   "hash": "530756d384d84b166bf1cc6dadec8b1c5ff774bb470199997245af3e35454b18"
  },
  "kernelspec": {
   "display_name": "Python 3.9.6 64-bit",
   "name": "python3"
  },
  "language_info": {
   "codemirror_mode": {
    "name": "ipython",
    "version": 3
   },
   "file_extension": ".py",
   "mimetype": "text/x-python",
   "name": "python",
   "nbconvert_exporter": "python",
   "pygments_lexer": "ipython3",
   "version": "3.9.6"
  },
  "orig_nbformat": 4
 },
 "nbformat": 4,
 "nbformat_minor": 2
}
