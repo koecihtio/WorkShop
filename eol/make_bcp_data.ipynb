{
 "cells": [
  {
   "cell_type": "code",
   "execution_count": 1,
   "metadata": {},
   "outputs": [],
   "source": [
    "import pandas as pd\n",
    "import numpy as np\n",
    "import os\n",
    "import seaborn as sns"
   ]
  },
  {
   "cell_type": "code",
   "execution_count": 2,
   "metadata": {},
   "outputs": [],
   "source": [
    "def bind_data(folder_path, start_year, end_year, skiprows=4):\n",
    "    df_list = []\n",
    "    for year in range(start_year, end_year + 1):\n",
    "        filename = 's_' + str(year) + '.csv'\n",
    "        path = os.path.join(folder_path, filename)\n",
    "        df = pd.read_csv(path, encoding='utf-8', skiprows=skiprows)\n",
    "        df_list.append(df)\n",
    "    df = pd.concat(df_list)\n",
    "\n",
    "    return df"
   ]
  },
  {
   "cell_type": "code",
   "execution_count": 23,
   "metadata": {},
   "outputs": [],
   "source": [
    "# データの読込と結合\n",
    "folder_path = 'C:/Users/koeci/Google ドライブ/MBA/ワークショップ/data/eol/BCP/securities/'\n",
    "df = bind_data(folder_path, 2004, 2021)\n",
    "\n",
    "# 列の調整\n",
    "df = df[[\n",
    "    '[証券コード(提出者)]', '[EDINETコード(提出者)]', '[企業名(提出者)]',\n",
    "    '[業種（東証）(提出者)]', '[上場市場(提出者)]', '[決算日]', '[提出日]',\n",
    "    '[書類種類]', '[ヒット文書]'\n",
    "]]\n",
    "new_cols = [\n",
    "    'stock_code', 'edinet_code', 'firm_name', 'industry', 'market', 'fiscal_ymd',\n",
    "    'submit_ymd', 'doc_type', 'hit_doc'\n",
    "]\n",
    "df.set_axis(labels=new_cols, axis=1, inplace=True)\n",
    "\n",
    "# 証券コードの調整\n",
    "df = df[~(df['stock_code'] == '--')]\n",
    "\n",
    "# 決算日の調整\n",
    "df = df.assign(\n",
    "    year = df['fiscal_ymd'].apply(lambda x: int(str(x)[0:4])),\n",
    "    month = df['fiscal_ymd'].apply(lambda x: str(x)[5:7])\n",
    ")\n",
    "df['month'] = df['month'].apply(lambda x: int(x[0]) if x[0] == 0 else int(x))\n",
    "\n",
    "# 文書情報の修正\n",
    "def fix_doc_info(text):\n",
    "    new_text = []\n",
    "    contain = False\n",
    "    for t in text:\n",
    "        if not contain: # '【'まで読み込まれていない時\n",
    "            if t == '【':\n",
    "                contain = True\n",
    "        else: # '【'の後を読み込んでいるとき('】'は含まない)\n",
    "            if not t == '】':\n",
    "                new_text.append(t)\n",
    "    \n",
    "    new_text = ''.join(new_text)\n",
    "\n",
    "    return new_text\n",
    "\n",
    "df['doc_type'] = df['doc_type'].apply(lambda x: x.replace('（ＨＴＭＬ）', ''))\n",
    "df['hit_doc_fixed'] = df['hit_doc'].apply(fix_doc_info)\n",
    "\n",
    "# 年ごとに企業ユニークにする\n",
    "df.drop_duplicates(subset=['stock_code', 'year'], inplace=True, keep='first')\n",
    "\n",
    "# BCP開示フラグを作成する\n",
    "df['BCP'] = 1\n",
    "\n",
    "# BCPを最初に開示した年を追加する\n",
    "df_grouped = df.groupby('stock_code')\n",
    "df_grouped = df_grouped['year'].min()\n",
    "df_grouped.name = 'BCP_first_year'\n",
    "df = pd.merge(left=df, right=df_grouped, on='stock_code', how='left')\n",
    "\n",
    "# ソート\n",
    "df.sort_values(['stock_code', 'year'], inplace=True)\n",
    "\n",
    "# 保存\n",
    "save_path = 'C:/Users/koeci/Google ドライブ/MBA/ワークショップ/data/eol/BCP/securities/BCP_data.csv'\n",
    "df.to_csv(save_path, encoding='cp932', header=True, index=False)"
   ]
  },
  {
   "cell_type": "code",
   "execution_count": 25,
   "metadata": {},
   "outputs": [
    {
     "data": {
      "text/plain": [
       "Index(['stock_code', 'edinet_code', 'firm_name', 'industry', 'market',\n",
       "       'fiscal_ymd', 'submit_ymd', 'doc_type', 'hit_doc', 'year', 'month',\n",
       "       'hit_doc_fixed', 'BCP', 'BCP_first_year'],\n",
       "      dtype='object')"
      ]
     },
     "execution_count": 25,
     "metadata": {},
     "output_type": "execute_result"
    }
   ],
   "source": [
    "df.columns"
   ]
  }
 ],
 "metadata": {
  "interpreter": {
   "hash": "530756d384d84b166bf1cc6dadec8b1c5ff774bb470199997245af3e35454b18"
  },
  "kernelspec": {
   "display_name": "Python 3.9.6 64-bit",
   "name": "python3"
  },
  "language_info": {
   "codemirror_mode": {
    "name": "ipython",
    "version": 3
   },
   "file_extension": ".py",
   "mimetype": "text/x-python",
   "name": "python",
   "nbconvert_exporter": "python",
   "pygments_lexer": "ipython3",
   "version": "3.9.6"
  },
  "orig_nbformat": 4
 },
 "nbformat": 4,
 "nbformat_minor": 2
}
